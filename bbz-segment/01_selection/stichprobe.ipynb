{
 "cells": [
  {
   "cell_type": "code",
   "execution_count": null,
   "metadata": {},
   "outputs": [],
   "source": [
    "import calendar\n",
    "import random\n",
    "\n",
    "ausgaben = []\n",
    "\n",
    "for year in range(1872, 1930 + 1):\n",
    "    for month in range(1, 12 + 1):\n",
    "        _, n_days = calendar.monthrange(year, month)\n",
    "        for day in range(1, n_days + 1):\n",
    "            for ausgabe in ('M', 'A'):\n",
    "                ausgaben.append((year, month, day, ausgabe))\n",
    "            \n",
    "random.shuffle(ausgaben)"
   ]
  },
  {
   "cell_type": "code",
   "execution_count": null,
   "metadata": {},
   "outputs": [],
   "source": [
    "len(ausgaben)"
   ]
  },
  {
   "cell_type": "code",
   "execution_count": null,
   "metadata": {},
   "outputs": [],
   "source": [
    "# speicherbedarf in mb\n",
    "(len(ausgaben) * 20 * 2) / (1024 * 1024)"
   ]
  },
  {
   "cell_type": "code",
   "execution_count": null,
   "metadata": {},
   "outputs": [],
   "source": [
    "ausgaben[:10]"
   ]
  },
  {
   "cell_type": "code",
   "execution_count": null,
   "metadata": {},
   "outputs": [],
   "source": [
    "from pathlib import Path\n",
    "import requests\n",
    "from tqdm import tqdm\n",
    "import random\n",
    "import xml.etree.ElementTree as ET\n",
    "\n",
    "cache_path = Path('/Users/offline/Dropbox/Bernhards Bereiche/BBZ/cache')\n",
    "\n",
    "def download(url, path):\n",
    "    r = requests.get(url, stream=True)\n",
    "\n",
    "    total_size = int(r.headers.get('content-length', 0))\n",
    "    block_size = 1024\n",
    "\n",
    "    with tqdm(total=total_size, unit='iB', unit_scale=True, desc=url) as t:\n",
    "        with open(path, 'wb') as f:\n",
    "            for data in r.iter_content(block_size):\n",
    "                t.update(len(data))\n",
    "                f.write(data)\n",
    "\n",
    "    if total_size != 0 and t.n != total_size:\n",
    "        raise RuntimeError(\"%d != %d\" % (t.n, total_size))\n",
    "\n",
    "def zefys_id(ausgabe, seite=0):\n",
    "    jahr, monat, tag, typ = ausgabe\n",
    "    return 'SNP2436020X-%04d%02d%02d-%d-%d-0-0' % (jahr, monat, tag, 0 if typ == 'M' else 1, seite)\n",
    "\n",
    "def download_page(ausgabe, seite=1):\n",
    "    p = cache_path / 'jpg' / ('%s.jpg' % zefys_id(ausgabe, seite))\n",
    "    if not p.is_file():\n",
    "        urls = bbz_page_urls(ausgabe)\n",
    "        download(urls[seite - 1], p)\n",
    "    return p\n",
    "\n",
    "def download_random_page(ausgabe):\n",
    "    urls = bbz_page_urls(ausgabe)\n",
    "    return download_page(ausgabe, random.randint(1, len(urls)))\n",
    "\n",
    "def bbz_xml(ausgabe):\n",
    "    p = cache_path / 'xml' / ('%s.xml' % zefys_id(ausgabe))\n",
    "    if not p.is_file():\n",
    "        download('http://content.staatsbibliothek-berlin.de/zefys/%s.xml' % zefys_id(ausgabe), p)\n",
    "    return ET.parse(p)\n",
    "\n",
    "def bbz_page_urls(ausgabe):\n",
    "    tree = bbz_xml(ausgabe)\n",
    "    root = tree.getroot()\n",
    "    loc = root.findall('.//{http://www.loc.gov/METS/}fileGrp[@USE=\"MAX\"]/{http://www.loc.gov/METS/}file/{http://www.loc.gov/METS/}FLocat')\n",
    "    return [l.attrib['{http://www.w3.org/1999/xlink}href'] for l in loc]\n",
    "\n",
    "def download_stichprobe(ausgaben):\n",
    "    for a in ausgaben:\n",
    "        try:\n",
    "            download_random_page(a)\n",
    "        except:\n",
    "            print(\"failed to fetch ausgabe\", a)\n",
    "\n"
   ]
  },
  {
   "cell_type": "code",
   "execution_count": null,
   "metadata": {},
   "outputs": [],
   "source": []
  }
 ],
 "metadata": {
  "kernelspec": {
   "display_name": "Python 3",
   "language": "python",
   "name": "python3"
  },
  "language_info": {
   "codemirror_mode": {
    "name": "ipython",
    "version": 3
   },
   "file_extension": ".py",
   "mimetype": "text/x-python",
   "name": "python",
   "nbconvert_exporter": "python",
   "pygments_lexer": "ipython3",
   "version": "3.7.0"
  },
  "nteract": {
   "version": "0.21.0"
  }
 },
 "nbformat": 4,
 "nbformat_minor": 4
}
